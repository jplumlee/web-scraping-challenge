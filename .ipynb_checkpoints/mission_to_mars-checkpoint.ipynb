{
 "cells": [
  {
   "cell_type": "code",
   "execution_count": 1,
   "metadata": {},
   "outputs": [],
   "source": [
    "from bs4 import BeautifulSoup as bs\n",
    "from splinter import Browser\n",
    "import requests\n",
    "import pandas as pd\n",
    "import time"
   ]
  },
  {
   "cell_type": "code",
   "execution_count": 2,
   "metadata": {},
   "outputs": [],
   "source": [
    "executable_path = {'executable_path': 'chromedriver.exe'}\n",
    "browser = Browser('chrome', **executable_path, headless=False)"
   ]
  },
  {
   "cell_type": "code",
   "execution_count": 3,
   "metadata": {},
   "outputs": [],
   "source": [
    "# URL for BeautifulSoup scraping\n",
    "url = 'https://mars.nasa.gov/news/'\n",
    "browser.visit(url)"
   ]
  },
  {
   "cell_type": "markdown",
   "metadata": {},
   "source": [
    "## Nasa Mars News"
   ]
  },
  {
   "cell_type": "code",
   "execution_count": 4,
   "metadata": {},
   "outputs": [
    {
     "name": "stdout",
     "output_type": "stream",
     "text": [
      "\n",
      "NASA Readies Perseverance Mars Rover's Earthly Twin \n",
      "\n"
     ]
    }
   ],
   "source": [
    "# Title soup\n",
    "response = requests.get(url)\n",
    "\n",
    "# Create a Beautiful Soup object\n",
    "title_soup = bs(response.text, 'html.parser')\n",
    "\n",
    "title = title_soup.find('div', class_='content_title').find('a')\n",
    "\n",
    "print(title.text)"
   ]
  },
  {
   "cell_type": "code",
   "execution_count": 5,
   "metadata": {},
   "outputs": [
    {
     "name": "stdout",
     "output_type": "stream",
     "text": [
      "In honor of Hispanic Heritage Month, Christina Hernandez, an instrument engineer on the Mars 2020 mission, talks about her childhood and journey to NASA.\n"
     ]
    }
   ],
   "source": [
    "# Read HTML from website and use BeautifulSoup to find the news title and paragraph text \n",
    "html = browser.html\n",
    "\n",
    "# Create a Beautiful Soup object\n",
    "paragraph_soup = bs(html, 'html.parser')\n",
    "\n",
    "# title = soup.find('div', class_='content_title')\n",
    "\n",
    "paragraph = paragraph_soup.find('div', class_='article_teaser_body')\n",
    "\n",
    "paragraph = paragraph.text\n",
    "\n",
    "print(paragraph)"
   ]
  },
  {
   "cell_type": "markdown",
   "metadata": {},
   "source": [
    "## JPL Mars Space Images"
   ]
  },
  {
   "cell_type": "code",
   "execution_count": 6,
   "metadata": {},
   "outputs": [],
   "source": [
    "url3 = 'https://www.jpl.nasa.gov/spaceimages/?search=&category=Mars'\n",
    "base_url3 = 'https://www.jpl.nasa.gov'\n",
    "\n",
    "browser.visit(url3)"
   ]
  },
  {
   "cell_type": "code",
   "execution_count": 7,
   "metadata": {},
   "outputs": [],
   "source": [
    "full_image = browser.find_by_id('full_image')\n",
    "full_image.click()\n",
    "\n",
    "time.sleep(3)"
   ]
  },
  {
   "cell_type": "code",
   "execution_count": 8,
   "metadata": {},
   "outputs": [],
   "source": [
    "# Read HTML from website and use BeautifulSoup to find the news title and paragraph text \n",
    "html3 = browser.html\n",
    "# html3 = requests.get(url3)\n",
    "\n",
    "# Create a Beautiful Soup object\n",
    "soup3 = bs(html3, 'html.parser')"
   ]
  },
  {
   "cell_type": "code",
   "execution_count": 9,
   "metadata": {},
   "outputs": [],
   "source": [
    "featured_image = soup3.find('img', class_=\"fancybox-image\")['src']\n",
    "\n",
    "featured_image_url = base_url3 + featured_image"
   ]
  },
  {
   "cell_type": "code",
   "execution_count": 10,
   "metadata": {},
   "outputs": [
    {
     "name": "stdout",
     "output_type": "stream",
     "text": [
      "https://www.jpl.nasa.gov/spaceimages/images/mediumsize/PIA22893_ip.jpg\n"
     ]
    }
   ],
   "source": [
    "print(featured_image_url)"
   ]
  },
  {
   "cell_type": "markdown",
   "metadata": {},
   "source": [
    "## Mars Facts - Pandas"
   ]
  },
  {
   "cell_type": "code",
   "execution_count": 11,
   "metadata": {},
   "outputs": [],
   "source": [
    "# URL for pandas scraping\n",
    "url2 = 'https://space-facts.com/mars/'\n",
    "\n",
    "tables = pd.read_html(url2)\n",
    "\n",
    "df = tables[2]\n",
    "\n",
    "df.columns=['Description', 'Mars']\n",
    "\n",
    "df.set_index('Description', inplace=True)\n",
    "\n",
    "df = df.to_html()"
   ]
  },
  {
   "cell_type": "markdown",
   "metadata": {},
   "source": [
    "## Mars Hemispheres"
   ]
  },
  {
   "cell_type": "code",
   "execution_count": 12,
   "metadata": {},
   "outputs": [],
   "source": [
    "url4 = 'https://astrogeology.usgs.gov/search/results?q=hemisphere+enhanced&k1=target&v1=Mars'\n",
    "base_url4 = 'https://astrogeology.usgs.gov'\n",
    "browser.visit(url4)\n",
    "html4 = browser.html\n",
    "soup4 = bs(html4, 'html.parser')\n",
    "hemisphere_url = soup4.find_all('div', class_='item')"
   ]
  },
  {
   "cell_type": "code",
   "execution_count": 13,
   "metadata": {},
   "outputs": [
    {
     "name": "stdout",
     "output_type": "stream",
     "text": [
      "[{'title': 'Cerberus Hemisphere Enhanced', 'image url': 'https://astrogeology.usgs.gov/cache/images/f5e372a36edfa389625da6d0cc25d905_cerberus_enhanced.tif_full.jpg'}, {'title': 'Schiaparelli Hemisphere Enhanced', 'image url': 'https://astrogeology.usgs.gov/cache/images/3778f7b43bbbc89d6e3cfabb3613ba93_schiaparelli_enhanced.tif_full.jpg'}, {'title': 'Syrtis Major Hemisphere Enhanced', 'image url': 'https://astrogeology.usgs.gov/cache/images/555e6403a6ddd7ba16ddb0e471cadcf7_syrtis_major_enhanced.tif_full.jpg'}, {'title': 'Valles Marineris Hemisphere Enhanced', 'image url': 'https://astrogeology.usgs.gov/cache/images/b3c7c6c9138f57b4756be9b9c43e3a48_valles_marineris_enhanced.tif_full.jpg'}]\n"
     ]
    }
   ],
   "source": [
    "image_urls = []\n",
    "\n",
    "for x in hemisphere_url:\n",
    "    title = x.find('h3').text\n",
    "    link = x.find('a')['href']\n",
    "    browser.visit(base_url4 + link)\n",
    "    html5 = browser.html\n",
    "    image_soup = bs(html5, 'html.parser')\n",
    "    image5 = base_url4 + image_soup.find('img', class_=\"wide-image\")['src']\n",
    "    image_urls.append({\"title\": title, \"image url\": image5})\n",
    "    \n",
    "print(image_urls)"
   ]
  },
  {
   "cell_type": "code",
   "execution_count": 14,
   "metadata": {},
   "outputs": [],
   "source": [
    "browser.quit()"
   ]
  },
  {
   "cell_type": "code",
   "execution_count": null,
   "metadata": {},
   "outputs": [],
   "source": []
  }
 ],
 "metadata": {
  "kernelspec": {
   "display_name": "Python 3",
   "language": "python",
   "name": "python3"
  },
  "language_info": {
   "codemirror_mode": {
    "name": "ipython",
    "version": 3
   },
   "file_extension": ".py",
   "mimetype": "text/x-python",
   "name": "python",
   "nbconvert_exporter": "python",
   "pygments_lexer": "ipython3",
   "version": "3.6.10"
  }
 },
 "nbformat": 4,
 "nbformat_minor": 4
}
